{
 "cells": [
  {
   "cell_type": "markdown",
   "metadata": {},
   "source": [
    "# Chapter 2 - Concepts and methods from basic probability and statistics"
   ]
  },
  {
   "cell_type": "code",
   "execution_count": 2,
   "metadata": {},
   "outputs": [
    {
     "name": "stdout",
     "output_type": "stream",
     "text": [
      "The blackcellmagic extension is already loaded. To reload it, use:\n",
      "  %reload_ext blackcellmagic\n",
      "Populating the interactive namespace from numpy and matplotlib\n"
     ]
    },
    {
     "name": "stderr",
     "output_type": "stream",
     "text": [
      "/home/cmb-06/as/skchoudh/software_frozen/anaconda37/envs/riboraptor/lib/python3.7/site-packages/IPython/core/magics/pylab.py:160: UserWarning: pylab import has clobbered these variables: ['plot']\n",
      "`%matplotlib` prevents importing * from pylab and numpy\n",
      "  \"\\n`%matplotlib` prevents importing * from pylab and numpy\"\n"
     ]
    }
   ],
   "source": [
    "%pylab inline\n",
    "\n",
    "import proplot as plot\n",
    "from scipy import stats\n",
    "\n",
    "plt.rcParams[\"axes.labelweight\"] = \"bold\"\n",
    "plt.rcParams[\"font.weight\"] = \"bold\""
   ]
  },
  {
   "cell_type": "markdown",
   "metadata": {},
   "source": [
    "# Code 2.3.1\n"
   ]
  },
  {
   "cell_type": "code",
   "execution_count": 15,
   "metadata": {},
   "outputs": [
    {
     "name": "stdout",
     "output_type": "stream",
     "text": [
      "mean: 35.8\n",
      "sd: 1.6431676725154982\n",
      "50% CI: [35.25570103 36.34429897]\n",
      "95% CI: [33.75973786 37.84026214]\n"
     ]
    }
   ],
   "source": [
    "# Classical confidence intervals\n",
    "y = np.array([35, 34, 38, 35, 37])\n",
    "n = len(y)\n",
    "estimate = y.mean()\n",
    "se = np.std(y, ddof=1) / np.sqrt(n)\n",
    "int_50 = estimate + stats.t(n - 1).ppf([0.25, 0.75]) * se\n",
    "int_95 = estimate + stats.t(n - 1).ppf([0.025, 0.975]) * se\n",
    "print(\"mean: {}\".format(estimate))\n",
    "print(\"sd: {}\".format(np.std(y, ddof=1)))\n",
    "print(\"50% CI: {}\".format(int_50))\n",
    "print(\"95% CI: {}\".format(int_95))"
   ]
  },
  {
   "cell_type": "markdown",
   "metadata": {},
   "source": [
    "# Code 2.3.2"
   ]
  },
  {
   "cell_type": "code",
   "execution_count": 27,
   "metadata": {},
   "outputs": [],
   "source": [
    "# Proportions\n",
    "estimate = 0.7\n",
    "n = 700\n",
    "se = np.sqrt(estimate * (1 - estimate) / n)\n",
    "int_95 = estimate + stats.norm.ppf([0.025, 0.975]) * se\n",
    "print(\"mean: {}\".format(estimate))\n",
    "print(\"se: {}\".format(se))\n",
    "print(\"95% CI: {}\".format(int_95))"
   ]
  },
  {
   "cell_type": "markdown",
   "metadata": {},
   "source": [
    "# Code 2.3.5"
   ]
  },
  {
   "cell_type": "code",
   "execution_count": 31,
   "metadata": {},
   "outputs": [
    {
     "name": "stdout",
     "output_type": "stream",
     "text": [
      "[1.06264948 1.25295841]\n"
     ]
    }
   ],
   "source": [
    "# Estimate ratio if syooirt fir tge death penalty among men to that among women\n",
    "n_men = 500\n",
    "p_hat_men = 0.75\n",
    "se_men = np.sqrt(p_hat_men * (1 - p_hat_men) / n_men)\n",
    "\n",
    "n_women = 500\n",
    "p_hat_women = 0.65\n",
    "se_women = np.sqrt(p_hat_women * (1 - p_hat_women) / n_women)\n",
    "\n",
    "n_sims = 10000\n",
    "p_men = stats.norm.rvs(loc=p_hat_men, scale=se_men, size=n_sims)\n",
    "p_women = stats.norm.rvs(loc=p_hat_women, scale=se_women, size=n_sims)\n",
    "\n",
    "ratio = p_men / p_women\n",
    "int_95 = stats.mstats.mquantiles(ratio, prob=[0.025, 0.975])\n",
    "print(int_95)"
   ]
  }
 ],
 "metadata": {
  "kernelspec": {
   "display_name": "Python [conda env:riboraptor]",
   "language": "python",
   "name": "conda-env-riboraptor-py"
  },
  "language_info": {
   "codemirror_mode": {
    "name": "ipython",
    "version": 3
   },
   "file_extension": ".py",
   "mimetype": "text/x-python",
   "name": "python",
   "nbconvert_exporter": "python",
   "pygments_lexer": "ipython3",
   "version": "3.7.3"
  },
  "toc-autonumbering": false
 },
 "nbformat": 4,
 "nbformat_minor": 4
}
