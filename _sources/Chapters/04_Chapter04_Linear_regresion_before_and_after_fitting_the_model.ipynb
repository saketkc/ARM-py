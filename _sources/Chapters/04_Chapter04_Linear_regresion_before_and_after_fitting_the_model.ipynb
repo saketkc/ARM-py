{
 "cells": [
  {
   "cell_type": "markdown",
   "metadata": {},
   "source": [
    "# Chapter 4 Linear regression: before and after fitting the model"
   ]
  },
  {
   "cell_type": "code",
   "execution_count": 1,
   "metadata": {},
   "outputs": [
    {
     "name": "stdout",
     "output_type": "stream",
     "text": [
      "Populating the interactive namespace from numpy and matplotlib\n"
     ]
    }
   ],
   "source": [
    "import warnings\n",
    "\n",
    "import pandas as pd\n",
    "import proplot as plot\n",
    "import seaborn as sns\n",
    "import statsmodels.api as sm\n",
    "import statsmodels.formula.api as smf\n",
    "from scipy import stats\n",
    "\n",
    "warnings.filterwarnings(\"ignore\")\n",
    "%pylab inline\n",
    "\n",
    "\n",
    "plt.rcParams[\"axes.labelweight\"] = \"bold\"\n",
    "plt.rcParams[\"font.weight\"] = \"bold\""
   ]
  },
  {
   "cell_type": "code",
   "execution_count": 2,
   "metadata": {},
   "outputs": [
    {
     "data": {
      "text/html": [
       "<div>\n",
       "<style scoped>\n",
       "    .dataframe tbody tr th:only-of-type {\n",
       "        vertical-align: middle;\n",
       "    }\n",
       "\n",
       "    .dataframe tbody tr th {\n",
       "        vertical-align: top;\n",
       "    }\n",
       "\n",
       "    .dataframe thead th {\n",
       "        text-align: right;\n",
       "    }\n",
       "</style>\n",
       "<table border=\"1\" class=\"dataframe\">\n",
       "  <thead>\n",
       "    <tr style=\"text-align: right;\">\n",
       "      <th></th>\n",
       "      <th>earn</th>\n",
       "      <th>height1</th>\n",
       "      <th>height2</th>\n",
       "      <th>sex</th>\n",
       "      <th>race</th>\n",
       "      <th>hisp</th>\n",
       "      <th>ed</th>\n",
       "      <th>yearbn</th>\n",
       "      <th>height</th>\n",
       "    </tr>\n",
       "  </thead>\n",
       "  <tbody>\n",
       "    <tr>\n",
       "      <th>0</th>\n",
       "      <td>NaN</td>\n",
       "      <td>5.0</td>\n",
       "      <td>6.0</td>\n",
       "      <td>2</td>\n",
       "      <td>1</td>\n",
       "      <td>2</td>\n",
       "      <td>12</td>\n",
       "      <td>53</td>\n",
       "      <td>66.0</td>\n",
       "    </tr>\n",
       "    <tr>\n",
       "      <th>1</th>\n",
       "      <td>NaN</td>\n",
       "      <td>5.0</td>\n",
       "      <td>4.0</td>\n",
       "      <td>1</td>\n",
       "      <td>2</td>\n",
       "      <td>2</td>\n",
       "      <td>12</td>\n",
       "      <td>50</td>\n",
       "      <td>64.0</td>\n",
       "    </tr>\n",
       "    <tr>\n",
       "      <th>2</th>\n",
       "      <td>50000.0</td>\n",
       "      <td>6.0</td>\n",
       "      <td>2.0</td>\n",
       "      <td>1</td>\n",
       "      <td>1</td>\n",
       "      <td>2</td>\n",
       "      <td>16</td>\n",
       "      <td>45</td>\n",
       "      <td>74.0</td>\n",
       "    </tr>\n",
       "    <tr>\n",
       "      <th>3</th>\n",
       "      <td>60000.0</td>\n",
       "      <td>5.0</td>\n",
       "      <td>6.0</td>\n",
       "      <td>2</td>\n",
       "      <td>1</td>\n",
       "      <td>2</td>\n",
       "      <td>16</td>\n",
       "      <td>32</td>\n",
       "      <td>66.0</td>\n",
       "    </tr>\n",
       "    <tr>\n",
       "      <th>4</th>\n",
       "      <td>30000.0</td>\n",
       "      <td>5.0</td>\n",
       "      <td>4.0</td>\n",
       "      <td>2</td>\n",
       "      <td>1</td>\n",
       "      <td>2</td>\n",
       "      <td>16</td>\n",
       "      <td>61</td>\n",
       "      <td>64.0</td>\n",
       "    </tr>\n",
       "  </tbody>\n",
       "</table>\n",
       "</div>"
      ],
      "text/plain": [
       "      earn  height1  height2  sex  race  hisp  ed  yearbn  height\n",
       "0      NaN      5.0      6.0    2     1     2  12      53    66.0\n",
       "1      NaN      5.0      4.0    1     2     2  12      50    64.0\n",
       "2  50000.0      6.0      2.0    1     1     2  16      45    74.0\n",
       "3  60000.0      5.0      6.0    2     1     2  16      32    66.0\n",
       "4  30000.0      5.0      4.0    2     1     2  16      61    64.0"
      ]
     },
     "execution_count": 2,
     "metadata": {},
     "output_type": "execute_result"
    }
   ],
   "source": [
    "earnings_df = pd.read_csv(\"../data/earnings/heights.tsv.gz\", sep=\"\\t\")\n",
    "earnings_df.head()"
   ]
  },
  {
   "cell_type": "code",
   "execution_count": 3,
   "metadata": {},
   "outputs": [
    {
     "data": {
      "text/plain": [
       "(2029, 9)"
      ]
     },
     "execution_count": 3,
     "metadata": {},
     "output_type": "execute_result"
    }
   ],
   "source": [
    "earnings_df.shape"
   ]
  },
  {
   "cell_type": "code",
   "execution_count": 4,
   "metadata": {},
   "outputs": [
    {
     "data": {
      "text/plain": [
       "(1379, 9)"
      ]
     },
     "execution_count": 4,
     "metadata": {},
     "output_type": "execute_result"
    }
   ],
   "source": [
    "earnings_df.dropna().shape"
   ]
  },
  {
   "cell_type": "code",
   "execution_count": 5,
   "metadata": {},
   "outputs": [
    {
     "data": {
      "text/plain": [
       "(1379, 9)"
      ]
     },
     "execution_count": 5,
     "metadata": {},
     "output_type": "execute_result"
    }
   ],
   "source": [
    "earnings_df = earnings_df.dropna()\n",
    "earnings_df.shape"
   ]
  },
  {
   "cell_type": "code",
   "execution_count": 6,
   "metadata": {},
   "outputs": [
    {
     "data": {
      "text/html": [
       "<div>\n",
       "<style scoped>\n",
       "    .dataframe tbody tr th:only-of-type {\n",
       "        vertical-align: middle;\n",
       "    }\n",
       "\n",
       "    .dataframe tbody tr th {\n",
       "        vertical-align: top;\n",
       "    }\n",
       "\n",
       "    .dataframe thead th {\n",
       "        text-align: right;\n",
       "    }\n",
       "</style>\n",
       "<table border=\"1\" class=\"dataframe\">\n",
       "  <thead>\n",
       "    <tr style=\"text-align: right;\">\n",
       "      <th></th>\n",
       "      <th>earn</th>\n",
       "      <th>height1</th>\n",
       "      <th>height2</th>\n",
       "      <th>sex</th>\n",
       "      <th>race</th>\n",
       "      <th>hisp</th>\n",
       "      <th>ed</th>\n",
       "      <th>yearbn</th>\n",
       "      <th>height</th>\n",
       "    </tr>\n",
       "  </thead>\n",
       "  <tbody>\n",
       "    <tr>\n",
       "      <th>2</th>\n",
       "      <td>50000.0</td>\n",
       "      <td>6.0</td>\n",
       "      <td>2.0</td>\n",
       "      <td>1</td>\n",
       "      <td>1</td>\n",
       "      <td>2</td>\n",
       "      <td>16</td>\n",
       "      <td>45</td>\n",
       "      <td>74.0</td>\n",
       "    </tr>\n",
       "    <tr>\n",
       "      <th>3</th>\n",
       "      <td>60000.0</td>\n",
       "      <td>5.0</td>\n",
       "      <td>6.0</td>\n",
       "      <td>2</td>\n",
       "      <td>1</td>\n",
       "      <td>2</td>\n",
       "      <td>16</td>\n",
       "      <td>32</td>\n",
       "      <td>66.0</td>\n",
       "    </tr>\n",
       "    <tr>\n",
       "      <th>4</th>\n",
       "      <td>30000.0</td>\n",
       "      <td>5.0</td>\n",
       "      <td>4.0</td>\n",
       "      <td>2</td>\n",
       "      <td>1</td>\n",
       "      <td>2</td>\n",
       "      <td>16</td>\n",
       "      <td>61</td>\n",
       "      <td>64.0</td>\n",
       "    </tr>\n",
       "    <tr>\n",
       "      <th>6</th>\n",
       "      <td>50000.0</td>\n",
       "      <td>5.0</td>\n",
       "      <td>3.0</td>\n",
       "      <td>2</td>\n",
       "      <td>3</td>\n",
       "      <td>2</td>\n",
       "      <td>16</td>\n",
       "      <td>99</td>\n",
       "      <td>63.0</td>\n",
       "    </tr>\n",
       "    <tr>\n",
       "      <th>8</th>\n",
       "      <td>51000.0</td>\n",
       "      <td>5.0</td>\n",
       "      <td>3.0</td>\n",
       "      <td>2</td>\n",
       "      <td>1</td>\n",
       "      <td>2</td>\n",
       "      <td>17</td>\n",
       "      <td>51</td>\n",
       "      <td>63.0</td>\n",
       "    </tr>\n",
       "  </tbody>\n",
       "</table>\n",
       "</div>"
      ],
      "text/plain": [
       "      earn  height1  height2  sex  race  hisp  ed  yearbn  height\n",
       "2  50000.0      6.0      2.0    1     1     2  16      45    74.0\n",
       "3  60000.0      5.0      6.0    2     1     2  16      32    66.0\n",
       "4  30000.0      5.0      4.0    2     1     2  16      61    64.0\n",
       "6  50000.0      5.0      3.0    2     3     2  16      99    63.0\n",
       "8  51000.0      5.0      3.0    2     1     2  17      51    63.0"
      ]
     },
     "execution_count": 6,
     "metadata": {},
     "output_type": "execute_result"
    }
   ],
   "source": [
    "earnings_df.head()"
   ]
  },
  {
   "cell_type": "markdown",
   "metadata": {},
   "source": [
    "# Centering and standardizing, especially for models with interactions"
   ]
  },
  {
   "cell_type": "code",
   "execution_count": 7,
   "metadata": {},
   "outputs": [
    {
     "data": {
      "text/html": [
       "<div>\n",
       "<style scoped>\n",
       "    .dataframe tbody tr th:only-of-type {\n",
       "        vertical-align: middle;\n",
       "    }\n",
       "\n",
       "    .dataframe tbody tr th {\n",
       "        vertical-align: top;\n",
       "    }\n",
       "\n",
       "    .dataframe thead th {\n",
       "        text-align: right;\n",
       "    }\n",
       "</style>\n",
       "<table border=\"1\" class=\"dataframe\">\n",
       "  <thead>\n",
       "    <tr style=\"text-align: right;\">\n",
       "      <th></th>\n",
       "      <th>kid_score</th>\n",
       "      <th>mom_hs</th>\n",
       "      <th>mom_iq</th>\n",
       "      <th>mom_work</th>\n",
       "      <th>mom_age</th>\n",
       "    </tr>\n",
       "  </thead>\n",
       "  <tbody>\n",
       "    <tr>\n",
       "      <th>0</th>\n",
       "      <td>65</td>\n",
       "      <td>1.0</td>\n",
       "      <td>121.117529</td>\n",
       "      <td>4</td>\n",
       "      <td>27</td>\n",
       "    </tr>\n",
       "    <tr>\n",
       "      <th>1</th>\n",
       "      <td>98</td>\n",
       "      <td>1.0</td>\n",
       "      <td>89.361882</td>\n",
       "      <td>4</td>\n",
       "      <td>25</td>\n",
       "    </tr>\n",
       "    <tr>\n",
       "      <th>2</th>\n",
       "      <td>85</td>\n",
       "      <td>1.0</td>\n",
       "      <td>115.443165</td>\n",
       "      <td>4</td>\n",
       "      <td>27</td>\n",
       "    </tr>\n",
       "    <tr>\n",
       "      <th>3</th>\n",
       "      <td>83</td>\n",
       "      <td>1.0</td>\n",
       "      <td>99.449639</td>\n",
       "      <td>3</td>\n",
       "      <td>25</td>\n",
       "    </tr>\n",
       "    <tr>\n",
       "      <th>4</th>\n",
       "      <td>115</td>\n",
       "      <td>1.0</td>\n",
       "      <td>92.745710</td>\n",
       "      <td>4</td>\n",
       "      <td>27</td>\n",
       "    </tr>\n",
       "  </tbody>\n",
       "</table>\n",
       "</div>"
      ],
      "text/plain": [
       "   kid_score  mom_hs      mom_iq  mom_work  mom_age\n",
       "0         65     1.0  121.117529         4       27\n",
       "1         98     1.0   89.361882         4       25\n",
       "2         85     1.0  115.443165         4       27\n",
       "3         83     1.0   99.449639         3       25\n",
       "4        115     1.0   92.745710         4       27"
      ]
     },
     "execution_count": 7,
     "metadata": {},
     "output_type": "execute_result"
    }
   ],
   "source": [
    "kidiq_df = pd.read_csv(\"../data/kidiq.tsv.gz\", sep=\"\\t\")\n",
    "kidiq_df.head()"
   ]
  },
  {
   "cell_type": "code",
   "execution_count": 8,
   "metadata": {},
   "outputs": [
    {
     "name": "stdout",
     "output_type": "stream",
     "text": [
      "                            OLS Regression Results                            \n",
      "==============================================================================\n",
      "Dep. Variable:              kid_score   R-squared:                       0.230\n",
      "Model:                            OLS   Adj. R-squared:                  0.225\n",
      "Method:                 Least Squares   F-statistic:                     42.84\n",
      "Date:                Sat, 20 Jun 2020   Prob (F-statistic):           3.07e-24\n",
      "Time:                        23:35:23   Log-Likelihood:                -1867.5\n",
      "No. Observations:                 434   AIC:                             3743.\n",
      "Df Residuals:                     430   BIC:                             3759.\n",
      "Df Model:                           3                                         \n",
      "Covariance Type:            nonrobust                                         \n",
      "=================================================================================\n",
      "                    coef    std err          t      P>|t|      [0.025      0.975]\n",
      "---------------------------------------------------------------------------------\n",
      "Intercept       -11.4820     13.758     -0.835      0.404     -38.523      15.559\n",
      "mom_hs           51.2682     15.338      3.343      0.001      21.122      81.414\n",
      "mom_iq            0.9689      0.148      6.531      0.000       0.677       1.260\n",
      "mom_hs:mom_iq    -0.4843      0.162     -2.985      0.003      -0.803      -0.165\n",
      "==============================================================================\n",
      "Omnibus:                        8.014   Durbin-Watson:                   1.660\n",
      "Prob(Omnibus):                  0.018   Jarque-Bera (JB):                8.258\n",
      "Skew:                          -0.333   Prob(JB):                       0.0161\n",
      "Kurtosis:                       2.887   Cond. No.                     3.10e+03\n",
      "==============================================================================\n",
      "\n",
      "Warnings:\n",
      "[1] Standard Errors assume that the covariance matrix of the errors is correctly specified.\n",
      "[2] The condition number is large, 3.1e+03. This might indicate that there are\n",
      "strong multicollinearity or other numerical problems.\n",
      "Residual SD: 17.91\n"
     ]
    }
   ],
   "source": [
    "model = smf.ols(\n",
    "    formula=\"\"\"kid_score ~ mom_hs + mom_iq + mom_hs:mom_iq\"\"\", data=kidiq_df\n",
    ")\n",
    "results_hs = model.fit()\n",
    "print(results_hs.summary())\n",
    "print(\"Residual SD: {}\".format(np.round(results_hs.resid.std(), 2)))"
   ]
  },
  {
   "cell_type": "markdown",
   "metadata": {},
   "source": [
    "# Centering by subtracting the mean"
   ]
  },
  {
   "cell_type": "code",
   "execution_count": 9,
   "metadata": {},
   "outputs": [
    {
     "name": "stdout",
     "output_type": "stream",
     "text": [
      "                            OLS Regression Results                            \n",
      "==============================================================================\n",
      "Dep. Variable:              kid_score   R-squared:                       0.230\n",
      "Model:                            OLS   Adj. R-squared:                  0.225\n",
      "Method:                 Least Squares   F-statistic:                     42.84\n",
      "Date:                Sat, 20 Jun 2020   Prob (F-statistic):           3.07e-24\n",
      "Time:                        23:35:23   Log-Likelihood:                -1867.5\n",
      "No. Observations:                 434   AIC:                             3743.\n",
      "Df Residuals:                     430   BIC:                             3759.\n",
      "Df Model:                           3                                         \n",
      "Covariance Type:            nonrobust                                         \n",
      "===================================================================================================\n",
      "                                      coef    std err          t      P>|t|      [0.025      0.975]\n",
      "---------------------------------------------------------------------------------------------------\n",
      "Intercept                          87.6389      0.908     96.565      0.000      85.855      89.423\n",
      "mom_hs_centered                     2.8408      2.427      1.171      0.242      -1.929       7.610\n",
      "mom_iq_centered                     0.5884      0.061      9.712      0.000       0.469       0.707\n",
      "mom_hs_centered:mom_iq_centered    -0.4843      0.162     -2.985      0.003      -0.803      -0.165\n",
      "==============================================================================\n",
      "Omnibus:                        8.014   Durbin-Watson:                   1.660\n",
      "Prob(Omnibus):                  0.018   Jarque-Bera (JB):                8.258\n",
      "Skew:                          -0.333   Prob(JB):                       0.0161\n",
      "Kurtosis:                       2.887   Cond. No.                         42.2\n",
      "==============================================================================\n",
      "\n",
      "Warnings:\n",
      "[1] Standard Errors assume that the covariance matrix of the errors is correctly specified.\n",
      "Residual SD: 17.91\n"
     ]
    }
   ],
   "source": [
    "kidiq_df[\"mom_hs_centered\"] = kidiq_df[\"mom_hs\"] - kidiq_df[\"mom_hs\"].mean()\n",
    "kidiq_df[\"mom_iq_centered\"] = kidiq_df[\"mom_iq\"] - kidiq_df[\"mom_iq\"].mean()\n",
    "\n",
    "\n",
    "model = smf.ols(\n",
    "    formula=\"\"\"kid_score ~ mom_hs_centered + mom_iq_centered + mom_hs_centered:mom_iq_centered\"\"\",\n",
    "    data=kidiq_df,\n",
    ")\n",
    "results_hs = model.fit()\n",
    "print(results_hs.summary())\n",
    "print(\"Residual SD: {}\".format(np.round(results_hs.resid.std(), 2)))"
   ]
  },
  {
   "cell_type": "markdown",
   "metadata": {},
   "source": [
    "The residual SD and $R^2$ do not change as a linear transformation does not affect the fit. Interpretation:\n",
    "    \n",
    "    - Intercept (87): Score of children with  mothers who have an average IQ and have gone to a \"mean high school\" \n",
    "    - Coeff of mom_hs (2.8): Score of children differes by 2.8 for children with mother's mean high school difference of 1 (i.e. went to school vs didn't) as long as they have the same mean IQ.\n",
    "    - Coeff of mom_iq (0.6): Score of children will differ by 0.6 for a 1 point difference in mother's IQ if they are at the same average level of \"mean high school\"\n",
    "    - Interaction effect: Difference in slope for mom_iq comparing children with mothers who did and did not complete \n",
    "    \n",
    "Coefficient of each main effect corresponds to the predictive difference with the other input at its average value.    "
   ]
  },
  {
   "cell_type": "markdown",
   "metadata": {},
   "source": [
    "# Using a conventional centering point\n",
    "\n",
    "\n",
    "If we center on an understandable reference - the above values are more interpretable."
   ]
  },
  {
   "cell_type": "code",
   "execution_count": 10,
   "metadata": {},
   "outputs": [
    {
     "name": "stdout",
     "output_type": "stream",
     "text": [
      "                            OLS Regression Results                            \n",
      "==============================================================================\n",
      "Dep. Variable:              kid_score   R-squared:                       0.230\n",
      "Model:                            OLS   Adj. R-squared:                  0.225\n",
      "Method:                 Least Squares   F-statistic:                     42.84\n",
      "Date:                Sat, 20 Jun 2020   Prob (F-statistic):           3.07e-24\n",
      "Time:                        23:35:23   Log-Likelihood:                -1867.5\n",
      "No. Observations:                 434   AIC:                             3743.\n",
      "Df Residuals:                     430   BIC:                             3759.\n",
      "Df Model:                           3                                         \n",
      "Covariance Type:            nonrobust                                         \n",
      "=====================================================================================================\n",
      "                                        coef    std err          t      P>|t|      [0.025      0.975]\n",
      "-----------------------------------------------------------------------------------------------------\n",
      "Intercept                            86.8273      1.213     71.561      0.000      84.442      89.212\n",
      "mom_hs_centered2                      2.8408      2.427      1.171      0.242      -1.929       7.610\n",
      "mom_iq_centered2                      0.7268      0.081      8.960      0.000       0.567       0.886\n",
      "mom_hs_centered2:mom_iq_centered2    -0.4843      0.162     -2.985      0.003      -0.803      -0.165\n",
      "==============================================================================\n",
      "Omnibus:                        8.014   Durbin-Watson:                   1.660\n",
      "Prob(Omnibus):                  0.018   Jarque-Bera (JB):                8.258\n",
      "Skew:                          -0.333   Prob(JB):                       0.0161\n",
      "Kurtosis:                       2.887   Cond. No.                         46.9\n",
      "==============================================================================\n",
      "\n",
      "Warnings:\n",
      "[1] Standard Errors assume that the covariance matrix of the errors is correctly specified.\n",
      "Residual SD: 17.91\n"
     ]
    }
   ],
   "source": [
    "kidiq_df[\"mom_hs_centered2\"] = kidiq_df[\"mom_hs\"] - 0.5\n",
    "kidiq_df[\"mom_iq_centered2\"] = kidiq_df[\"mom_iq\"] - 100\n",
    "\n",
    "\n",
    "model = smf.ols(\n",
    "    formula=\"\"\"kid_score ~ mom_hs_centered2 + mom_iq_centered2 + mom_hs_centered2:mom_iq_centered2\"\"\",\n",
    "    data=kidiq_df,\n",
    ")\n",
    "results_hs = model.fit()\n",
    "print(results_hs.summary())\n",
    "print(\"Residual SD: {}\".format(np.round(results_hs.resid.std(), 2)))"
   ]
  },
  {
   "cell_type": "markdown",
   "metadata": {},
   "source": [
    "- Coefficient of mom_hs_centered2 is the average predictive difference between a child with mom.hs = 1 and mom.hs = 0 for those children with mom.iq = 100.\n",
    "\n",
    "- Coefficient of mom_iq_centered2 is the average predictive difference between a child with mom.iq = 0.5\n"
   ]
  },
  {
   "cell_type": "markdown",
   "metadata": {},
   "source": [
    "# Standardizing by subtracting the mean and dividing by 2 standard deviations"
   ]
  },
  {
   "cell_type": "code",
   "execution_count": 11,
   "metadata": {},
   "outputs": [
    {
     "name": "stdout",
     "output_type": "stream",
     "text": [
      "                            OLS Regression Results                            \n",
      "==============================================================================\n",
      "Dep. Variable:              kid_score   R-squared:                       0.230\n",
      "Model:                            OLS   Adj. R-squared:                  0.225\n",
      "Method:                 Least Squares   F-statistic:                     42.84\n",
      "Date:                Sat, 20 Jun 2020   Prob (F-statistic):           3.07e-24\n",
      "Time:                        23:35:23   Log-Likelihood:                -1867.5\n",
      "No. Observations:                 434   AIC:                             3743.\n",
      "Df Residuals:                     430   BIC:                             3759.\n",
      "Df Model:                           3                                         \n",
      "Covariance Type:            nonrobust                                         \n",
      "=====================================================================================================\n",
      "                                        coef    std err          t      P>|t|      [0.025      0.975]\n",
      "-----------------------------------------------------------------------------------------------------\n",
      "Intercept                            87.6389      0.908     96.565      0.000      85.855      89.423\n",
      "mom_hs_centeredZ                     13.8304     11.814      1.171      0.242      -9.391      37.051\n",
      "mom_iq_centeredZ                      0.0785      0.008      9.712      0.000       0.063       0.094\n",
      "mom_hs_centeredZ:mom_iq_centeredZ    -0.3144      0.105     -2.985      0.003      -0.521      -0.107\n",
      "==============================================================================\n",
      "Omnibus:                        8.014   Durbin-Watson:                   1.660\n",
      "Prob(Omnibus):                  0.018   Jarque-Bera (JB):                8.258\n",
      "Skew:                          -0.333   Prob(JB):                       0.0161\n",
      "Kurtosis:                       2.887   Cond. No.                     1.54e+03\n",
      "==============================================================================\n",
      "\n",
      "Warnings:\n",
      "[1] Standard Errors assume that the covariance matrix of the errors is correctly specified.\n",
      "[2] The condition number is large, 1.54e+03. This might indicate that there are\n",
      "strong multicollinearity or other numerical problems.\n",
      "Residual SD: 17.91\n"
     ]
    }
   ],
   "source": [
    "kidiq_df[\"mom_hs_centeredZ\"] = (\n",
    "    (kidiq_df[\"mom_hs\"] - kidiq_df[\"mom_hs\"].mean()) / 2 * kidiq_df[\"mom_hs\"].std()\n",
    ")\n",
    "kidiq_df[\"mom_iq_centeredZ\"] = (\n",
    "    (kidiq_df[\"mom_iq\"] - kidiq_df[\"mom_iq\"].mean()) / 2 * kidiq_df[\"mom_iq\"].std()\n",
    ")\n",
    "\n",
    "\n",
    "model = smf.ols(\n",
    "    formula=\"\"\"kid_score ~ mom_hs_centeredZ + mom_iq_centeredZ + mom_hs_centeredZ:mom_iq_centeredZ\"\"\",\n",
    "    data=kidiq_df,\n",
    ")\n",
    "results_hs = model.fit()\n",
    "print(results_hs.summary())\n",
    "print(\"Residual SD: {}\".format(np.round(results_hs.resid.std(), 2)))"
   ]
  },
  {
   "cell_type": "markdown",
   "metadata": {},
   "source": [
    "## Why scale by 2 standard deviations?\n",
    "\n",
    "If $x$ was a binary variable them its standard deviation is given by $\\sqrt{0.5 \\times 0.5}= 0.5 $.\n",
    "If we do not divide by 2, the difference between the extremities of the binary variable  $(0.5/0.5) - (-0.5/0.5) = 2$ and hence the coefficient would correspond half the difference between the two possible values of x. While dividing by 2 will result in a difference of 1."
   ]
  },
  {
   "cell_type": "markdown",
   "metadata": {},
   "source": [
    "# Logarithmic transformations\n",
    "\n",
    "A linear model on the logarithmic scale corresponds to a multiplicative model on the original scale. \n",
    "\n",
    "## Height and earnings example\n"
   ]
  },
  {
   "cell_type": "code",
   "execution_count": 12,
   "metadata": {},
   "outputs": [
    {
     "name": "stdout",
     "output_type": "stream",
     "text": [
      "                            OLS Regression Results                            \n",
      "==============================================================================\n",
      "Dep. Variable:               log_earn   R-squared:                       0.060\n",
      "Model:                            OLS   Adj. R-squared:                  0.060\n",
      "Method:                 Least Squares   F-statistic:                     76.44\n",
      "Date:                Sat, 20 Jun 2020   Prob (F-statistic):           7.62e-18\n",
      "Time:                        23:35:23   Log-Likelihood:                -1555.6\n",
      "No. Observations:                1192   AIC:                             3115.\n",
      "Df Residuals:                    1190   BIC:                             3125.\n",
      "Df Model:                           1                                         \n",
      "Covariance Type:            nonrobust                                         \n",
      "==============================================================================\n",
      "                 coef    std err          t      P>|t|      [0.025      0.975]\n",
      "------------------------------------------------------------------------------\n",
      "Intercept      5.7785      0.451     12.815      0.000       4.894       6.663\n",
      "height         0.0588      0.007      8.743      0.000       0.046       0.072\n",
      "==============================================================================\n",
      "Omnibus:                      223.552   Durbin-Watson:                   1.904\n",
      "Prob(Omnibus):                  0.000   Jarque-Bera (JB):              457.878\n",
      "Skew:                          -1.079   Prob(JB):                    3.74e-100\n",
      "Kurtosis:                       5.136   Cond. No.                     1.17e+03\n",
      "==============================================================================\n",
      "\n",
      "Warnings:\n",
      "[1] Standard Errors assume that the covariance matrix of the errors is correctly specified.\n",
      "[2] The condition number is large, 1.17e+03. This might indicate that there are\n",
      "strong multicollinearity or other numerical problems.\n"
     ]
    }
   ],
   "source": [
    "earnings_df[\"log_earn\"] = np.log(earnings_df[\"earn\"])\n",
    "earnings_df = earnings_df.replace([np.inf, -np.inf], np.nan)\n",
    "\n",
    "earnings_df = earnings_df.dropna()\n",
    "earn_log_model = smf.ols(formula=\"\"\"log_earn ~ height\"\"\", data=earnings_df).fit()\n",
    "print(earn_log_model.summary())"
   ]
  },
  {
   "cell_type": "markdown",
   "metadata": {},
   "source": [
    "### Interpretation\n",
    "\n",
    "A coefficient of 0.06 on log scale for height implies a unit change in height will lead to $\\exp{0.06}= 1.06$ difference in earnings. Thus a change of 1 unit in height leads to a change of 6% in earnings.\n",
    "\n",
    "\n",
    "### Why use a natural log instead of $log_{10}$\n",
    "\n",
    "Coefficients on the natural-log scale are \"more\" interpretable. A coefficient of $0.06$ for example corresponds to\n",
    "a change of 6%. On the other hand, a change on $\\log_{10}$ scale is harder to interpret:\n",
    "\n"
   ]
  },
  {
   "cell_type": "code",
   "execution_count": 13,
   "metadata": {},
   "outputs": [
    {
     "name": "stdout",
     "output_type": "stream",
     "text": [
      "                            OLS Regression Results                            \n",
      "==============================================================================\n",
      "Dep. Variable:             log10_earn   R-squared:                       0.060\n",
      "Model:                            OLS   Adj. R-squared:                  0.060\n",
      "Method:                 Least Squares   F-statistic:                     76.44\n",
      "Date:                Sat, 20 Jun 2020   Prob (F-statistic):           7.62e-18\n",
      "Time:                        23:35:23   Log-Likelihood:                -561.42\n",
      "No. Observations:                1192   AIC:                             1127.\n",
      "Df Residuals:                    1190   BIC:                             1137.\n",
      "Df Model:                           1                                         \n",
      "Covariance Type:            nonrobust                                         \n",
      "==============================================================================\n",
      "                 coef    std err          t      P>|t|      [0.025      0.975]\n",
      "------------------------------------------------------------------------------\n",
      "Intercept      2.5096      0.196     12.815      0.000       2.125       2.894\n",
      "height         0.0255      0.003      8.743      0.000       0.020       0.031\n",
      "==============================================================================\n",
      "Omnibus:                      223.552   Durbin-Watson:                   1.904\n",
      "Prob(Omnibus):                  0.000   Jarque-Bera (JB):              457.878\n",
      "Skew:                          -1.079   Prob(JB):                    3.74e-100\n",
      "Kurtosis:                       5.136   Cond. No.                     1.17e+03\n",
      "==============================================================================\n",
      "\n",
      "Warnings:\n",
      "[1] Standard Errors assume that the covariance matrix of the errors is correctly specified.\n",
      "[2] The condition number is large, 1.17e+03. This might indicate that there are\n",
      "strong multicollinearity or other numerical problems.\n",
      "Residual SD: 0.39\n"
     ]
    }
   ],
   "source": [
    "earnings_df[\"log10_earn\"] = np.log10(earnings_df[\"earn\"])\n",
    "earnings_df = earnings_df.replace([np.inf, -np.inf], np.nan)\n",
    "\n",
    "earnings_df = earnings_df.dropna()\n",
    "earn_log_model = smf.ols(formula=\"\"\"log10_earn ~ height\"\"\", data=earnings_df).fit()\n",
    "print(earn_log_model.summary())\n",
    "print(\"Residual SD: {}\".format(np.round(earn_log_model.resid.std(), 2)))"
   ]
  },
  {
   "cell_type": "markdown",
   "metadata": {},
   "source": [
    "A coefficient of $0.0255$ is less interpretable here as it still corresponds to a change of $10^{0.0255} = 1.062$ "
   ]
  },
  {
   "cell_type": "markdown",
   "metadata": {},
   "source": [
    "## Building a regression model on the log scale"
   ]
  },
  {
   "cell_type": "code",
   "execution_count": 14,
   "metadata": {},
   "outputs": [
    {
     "name": "stdout",
     "output_type": "stream",
     "text": [
      "                            OLS Regression Results                            \n",
      "==============================================================================\n",
      "Dep. Variable:               log_earn   R-squared:                       0.087\n",
      "Model:                            OLS   Adj. R-squared:                  0.085\n",
      "Method:                 Least Squares   F-statistic:                     56.34\n",
      "Date:                Sat, 20 Jun 2020   Prob (F-statistic):           4.21e-24\n",
      "Time:                        23:35:23   Log-Likelihood:                -1538.7\n",
      "No. Observations:                1192   AIC:                             3083.\n",
      "Df Residuals:                    1189   BIC:                             3099.\n",
      "Df Model:                           2                                         \n",
      "Covariance Type:            nonrobust                                         \n",
      "==============================================================================\n",
      "                 coef    std err          t      P>|t|      [0.025      0.975]\n",
      "------------------------------------------------------------------------------\n",
      "Intercept      8.1527      0.603     13.530      0.000       6.970       9.335\n",
      "height         0.0207      0.009      2.218      0.027       0.002       0.039\n",
      "male           0.4232      0.072      5.841      0.000       0.281       0.565\n",
      "==============================================================================\n",
      "Omnibus:                      225.577   Durbin-Watson:                   1.889\n",
      "Prob(Omnibus):                  0.000   Jarque-Bera (JB):              462.608\n",
      "Skew:                          -1.088   Prob(JB):                    3.52e-101\n",
      "Kurtosis:                       5.141   Cond. No.                     1.59e+03\n",
      "==============================================================================\n",
      "\n",
      "Warnings:\n",
      "[1] Standard Errors assume that the covariance matrix of the errors is correctly specified.\n",
      "[2] The condition number is large, 1.59e+03. This might indicate that there are\n",
      "strong multicollinearity or other numerical problems.\n",
      "Residual SD: 0.88\n"
     ]
    }
   ],
   "source": [
    "earnings_df[\"male\"] = 1\n",
    "# Set rows where sex==2 to female (0)\n",
    "earnings_df.loc[earnings_df.sex == 2, \"male\"] = 0\n",
    "earn_log_model = smf.ols(formula=\"\"\"log_earn ~ height + male\"\"\", data=earnings_df).fit()\n",
    "print(earn_log_model.summary())\n",
    "print(\"Residual SD: {}\".format(np.round(earn_log_model.resid.std(), 2)))"
   ]
  },
  {
   "cell_type": "markdown",
   "metadata": {},
   "source": [
    "### Including an interaction"
   ]
  },
  {
   "cell_type": "code",
   "execution_count": 15,
   "metadata": {},
   "outputs": [
    {
     "name": "stdout",
     "output_type": "stream",
     "text": [
      "                            OLS Regression Results                            \n",
      "==============================================================================\n",
      "Dep. Variable:               log_earn   R-squared:                       0.087\n",
      "Model:                            OLS   Adj. R-squared:                  0.084\n",
      "Method:                 Least Squares   F-statistic:                     37.58\n",
      "Date:                Sat, 20 Jun 2020   Prob (F-statistic):           3.32e-23\n",
      "Time:                        23:35:23   Log-Likelihood:                -1538.6\n",
      "No. Observations:                1192   AIC:                             3085.\n",
      "Df Residuals:                    1188   BIC:                             3106.\n",
      "Df Model:                           3                                         \n",
      "Covariance Type:            nonrobust                                         \n",
      "===============================================================================\n",
      "                  coef    std err          t      P>|t|      [0.025      0.975]\n",
      "-------------------------------------------------------------------------------\n",
      "Intercept       8.3885      0.844      9.945      0.000       6.734      10.043\n",
      "height          0.0170      0.013      1.304      0.193      -0.009       0.043\n",
      "male           -0.0786      1.258     -0.062      0.950      -2.546       2.389\n",
      "height:male     0.0074      0.019      0.400      0.690      -0.029       0.044\n",
      "==============================================================================\n",
      "Omnibus:                      225.961   Durbin-Watson:                   1.889\n",
      "Prob(Omnibus):                  0.000   Jarque-Bera (JB):              463.655\n",
      "Skew:                          -1.089   Prob(JB):                    2.08e-101\n",
      "Kurtosis:                       5.143   Cond. No.                     4.16e+03\n",
      "==============================================================================\n",
      "\n",
      "Warnings:\n",
      "[1] Standard Errors assume that the covariance matrix of the errors is correctly specified.\n",
      "[2] The condition number is large, 4.16e+03. This might indicate that there are\n",
      "strong multicollinearity or other numerical problems.\n",
      "Residual SD: 0.88\n"
     ]
    }
   ],
   "source": [
    "earnings_df[\"male\"] = 1\n",
    "# Set rows where sex==2 to female (0)\n",
    "earnings_df.loc[earnings_df.sex == 2, \"male\"] = 0\n",
    "earn_log_model3 = smf.ols(\n",
    "    formula=\"\"\"log_earn ~ height + male + height:male\"\"\", data=earnings_df\n",
    ").fit()\n",
    "print(earn_log_model3.summary())\n",
    "print(\"Residual SD: {}\".format(np.round(earn_log_model3.resid.std(), 2)))"
   ]
  },
  {
   "cell_type": "markdown",
   "metadata": {},
   "source": [
    "Interpretation:\n",
    "    \n",
    "    - Intercept = Predicted log earning when height and male is zero (which is non feasible hence not interpretable)\n",
    "    - Coeff of height (0.017) = Predicted difference in log earnings corresponding to a 1-inch difference in height if male = 0 => The estimated predictive difference in earnings for a 1-inch difference in height is 1.7% for women.\n",
    "    - Coeff of male (-0.0786): Predicted difference in log earnings between women and men if height equals 0. But heights are never zero so this is not interpretable.\n",
    "    - Interaction term height:male (0.0074): Predictive difference in log earnings comparing men to women => An inch of height difference corresponds to 0.7% more of an in increase in earnings among men than among women and the estimated predictive difference in log earnings is 1.7% + 0.7% = 2.4% per inch of height in men.\n",
    "    \n",
    "    "
   ]
  },
  {
   "cell_type": "markdown",
   "metadata": {},
   "source": [
    "### Linear transformation to make coefficients more interpretable: "
   ]
  },
  {
   "cell_type": "code",
   "execution_count": 16,
   "metadata": {},
   "outputs": [
    {
     "name": "stdout",
     "output_type": "stream",
     "text": [
      "                            OLS Regression Results                            \n",
      "==============================================================================\n",
      "Dep. Variable:               log_earn   R-squared:                       0.087\n",
      "Model:                            OLS   Adj. R-squared:                  0.084\n",
      "Method:                 Least Squares   F-statistic:                     37.58\n",
      "Date:                Sat, 20 Jun 2020   Prob (F-statistic):           3.32e-23\n",
      "Time:                        23:35:23   Log-Likelihood:                -1538.6\n",
      "No. Observations:                1192   AIC:                             3085.\n",
      "Df Residuals:                    1188   BIC:                             3106.\n",
      "Df Model:                           3                                         \n",
      "Covariance Type:            nonrobust                                         \n",
      "=================================================================================\n",
      "                    coef    std err          t      P>|t|      [0.025      0.975]\n",
      "---------------------------------------------------------------------------------\n",
      "Intercept         9.5266      0.045    210.878      0.000       9.438       9.615\n",
      "height_z          0.0654      0.050      1.304      0.193      -0.033       0.164\n",
      "male              0.4197      0.073      5.748      0.000       0.276       0.563\n",
      "height_z:male     0.0286      0.072      0.400      0.690      -0.112       0.169\n",
      "==============================================================================\n",
      "Omnibus:                      225.961   Durbin-Watson:                   1.889\n",
      "Prob(Omnibus):                  0.000   Jarque-Bera (JB):              463.655\n",
      "Skew:                          -1.089   Prob(JB):                    2.08e-101\n",
      "Kurtosis:                       5.143   Cond. No.                         4.64\n",
      "==============================================================================\n",
      "\n",
      "Warnings:\n",
      "[1] Standard Errors assume that the covariance matrix of the errors is correctly specified.\n",
      "Residual SD: 0.88\n",
      "66.91694630872483 3.846637848956869\n"
     ]
    }
   ],
   "source": [
    "earnings_df[\"height_z\"] = (\n",
    "    earnings_df[\"height\"] - earnings_df[\"height\"].mean()\n",
    ") / earnings_df[\"height\"].std()\n",
    "earn_log_model4 = smf.ols(\n",
    "    formula=\"\"\"log_earn ~ height_z + male + height_z:male\"\"\", data=earnings_df\n",
    ").fit()\n",
    "print(earn_log_model4.summary())\n",
    "print(\"Residual SD: {}\".format(np.round(earn_log_model4.resid.std(), 2)))\n",
    "print(earnings_df[\"height\"].mean(), earnings_df[\"height\"].std())"
   ]
  },
  {
   "cell_type": "markdown",
   "metadata": {},
   "source": [
    "Interpretation:\n",
    "    \n",
    "    - Intercept = Predicted log earning when height is average height and male is zero (which is non feasible hence not interpretable) => 66.9 inch women has a log earnings of 9.52\n",
    "    - Coeff of height (0.065) = Predicted difference in log earnings corresponding to a 1-inch standard deviation in height if male = 0 => The estimated predictive difference in earnings for a 3.8 inch difference in height of females is 6% for women.\n",
    "    - Coeff of male (0.4197): Predicted difference in log earnings between women and men if height equals 66.9 inches. Thus, males of height 66.9 inches are expected to have 41.9% higher log earning than women\n",
    "    - Interaction term height:male (0.0286): Predictive difference in log earnings comparing men to women => A 2.8 inch of height difference corresponds to 2.8% more of an in increase in earnings among men than among women and the estimated predictive difference in log earnings is 41.9% + 2.7% = 44.6% per inch of height in men.\n",
    "    \n",
    "    "
   ]
  },
  {
   "cell_type": "markdown",
   "metadata": {},
   "source": [
    "## Using discrete rather than continous predictors"
   ]
  },
  {
   "cell_type": "code",
   "execution_count": 17,
   "metadata": {},
   "outputs": [
    {
     "name": "stdout",
     "output_type": "stream",
     "text": [
      "                            OLS Regression Results                            \n",
      "==============================================================================\n",
      "Dep. Variable:              kid_score   R-squared:                       0.024\n",
      "Model:                            OLS   Adj. R-squared:                  0.018\n",
      "Method:                 Least Squares   F-statistic:                     3.590\n",
      "Date:                Sat, 20 Jun 2020   Prob (F-statistic):             0.0138\n",
      "Time:                        23:35:24   Log-Likelihood:                -1918.9\n",
      "No. Observations:                 434   AIC:                             3846.\n",
      "Df Residuals:                     430   BIC:                             3862.\n",
      "Df Model:                           3                                         \n",
      "Covariance Type:            nonrobust                                         \n",
      "====================================================================================\n",
      "                       coef    std err          t      P>|t|      [0.025      0.975]\n",
      "------------------------------------------------------------------------------------\n",
      "Intercept           82.0000      2.305     35.568      0.000      77.469      86.531\n",
      "C(mom_work)[T.2]     3.8542      3.095      1.245      0.214      -2.229       9.937\n",
      "C(mom_work)[T.3]    11.5000      3.553      3.237      0.001       4.517      18.483\n",
      "C(mom_work)[T.4]     5.2098      2.704      1.927      0.055      -0.105      10.524\n",
      "==============================================================================\n",
      "Omnibus:                       12.371   Durbin-Watson:                   1.477\n",
      "Prob(Omnibus):                  0.002   Jarque-Bera (JB):               12.950\n",
      "Skew:                          -0.411   Prob(JB):                      0.00154\n",
      "Kurtosis:                       2.796   Cond. No.                         5.92\n",
      "==============================================================================\n",
      "\n",
      "Warnings:\n",
      "[1] Standard Errors assume that the covariance matrix of the errors is correctly specified.\n",
      "Residual SD: 20.16\n"
     ]
    }
   ],
   "source": [
    "kid_score_momwork = smf.ols(formula=\"\"\"kid_score ~ C(mom_work)\"\"\", data=kidiq_df).fit()\n",
    "print(kid_score_momwork.summary())\n",
    "print(\"Residual SD: {}\".format(np.round(kid_score_momwork.resid.std(), 2)))"
   ]
  },
  {
   "cell_type": "markdown",
   "metadata": {},
   "source": [
    "# Building regression models for prediction"
   ]
  },
  {
   "cell_type": "code",
   "execution_count": 18,
   "metadata": {},
   "outputs": [
    {
     "data": {
      "text/html": [
       "<div>\n",
       "<style scoped>\n",
       "    .dataframe tbody tr th:only-of-type {\n",
       "        vertical-align: middle;\n",
       "    }\n",
       "\n",
       "    .dataframe tbody tr th {\n",
       "        vertical-align: top;\n",
       "    }\n",
       "\n",
       "    .dataframe thead th {\n",
       "        text-align: right;\n",
       "    }\n",
       "</style>\n",
       "<table border=\"1\" class=\"dataframe\">\n",
       "  <thead>\n",
       "    <tr style=\"text-align: right;\">\n",
       "      <th></th>\n",
       "      <th>Obs</th>\n",
       "      <th>Group</th>\n",
       "      <th>Diam1</th>\n",
       "      <th>Diam2</th>\n",
       "      <th>TotHt</th>\n",
       "      <th>CanHt</th>\n",
       "      <th>Dens</th>\n",
       "      <th>LeafWt</th>\n",
       "    </tr>\n",
       "  </thead>\n",
       "  <tbody>\n",
       "    <tr>\n",
       "      <th>0</th>\n",
       "      <td>1</td>\n",
       "      <td>MCD</td>\n",
       "      <td>1.8</td>\n",
       "      <td>1.15</td>\n",
       "      <td>1.30</td>\n",
       "      <td>1.00</td>\n",
       "      <td>1</td>\n",
       "      <td>401.3</td>\n",
       "    </tr>\n",
       "    <tr>\n",
       "      <th>1</th>\n",
       "      <td>2</td>\n",
       "      <td>MCD</td>\n",
       "      <td>1.7</td>\n",
       "      <td>1.35</td>\n",
       "      <td>1.35</td>\n",
       "      <td>1.33</td>\n",
       "      <td>1</td>\n",
       "      <td>513.7</td>\n",
       "    </tr>\n",
       "    <tr>\n",
       "      <th>2</th>\n",
       "      <td>3</td>\n",
       "      <td>MCD</td>\n",
       "      <td>2.8</td>\n",
       "      <td>2.55</td>\n",
       "      <td>2.16</td>\n",
       "      <td>0.60</td>\n",
       "      <td>1</td>\n",
       "      <td>1179.2</td>\n",
       "    </tr>\n",
       "    <tr>\n",
       "      <th>3</th>\n",
       "      <td>4</td>\n",
       "      <td>MCD</td>\n",
       "      <td>1.3</td>\n",
       "      <td>0.85</td>\n",
       "      <td>1.80</td>\n",
       "      <td>1.20</td>\n",
       "      <td>1</td>\n",
       "      <td>308.0</td>\n",
       "    </tr>\n",
       "    <tr>\n",
       "      <th>4</th>\n",
       "      <td>5</td>\n",
       "      <td>MCD</td>\n",
       "      <td>3.3</td>\n",
       "      <td>1.90</td>\n",
       "      <td>1.55</td>\n",
       "      <td>1.05</td>\n",
       "      <td>1</td>\n",
       "      <td>855.2</td>\n",
       "    </tr>\n",
       "  </tbody>\n",
       "</table>\n",
       "</div>"
      ],
      "text/plain": [
       "   Obs Group  Diam1  Diam2  TotHt  CanHt  Dens  LeafWt\n",
       "0    1   MCD    1.8   1.15   1.30   1.00     1   401.3\n",
       "1    2   MCD    1.7   1.35   1.35   1.33     1   513.7\n",
       "2    3   MCD    2.8   2.55   2.16   0.60     1  1179.2\n",
       "3    4   MCD    1.3   0.85   1.80   1.20     1   308.0\n",
       "4    5   MCD    3.3   1.90   1.55   1.05     1   855.2"
      ]
     },
     "execution_count": 18,
     "metadata": {},
     "output_type": "execute_result"
    }
   ],
   "source": [
    "mesquite_df = pd.read_csv(\"../data/mesquite/mesquite.tsv.gz\", sep=\"\\t\")\n",
    "mesquite_df.head()"
   ]
  },
  {
   "cell_type": "code",
   "execution_count": 19,
   "metadata": {},
   "outputs": [
    {
     "name": "stdout",
     "output_type": "stream",
     "text": [
      "                            OLS Regression Results                            \n",
      "==============================================================================\n",
      "Dep. Variable:                 LeafWt   R-squared:                       0.848\n",
      "Model:                            OLS   Adj. R-squared:                  0.825\n",
      "Method:                 Least Squares   F-statistic:                     36.34\n",
      "Date:                Sat, 20 Jun 2020   Prob (F-statistic):           1.73e-14\n",
      "Time:                        23:35:24   Log-Likelihood:                -318.82\n",
      "No. Observations:                  46   AIC:                             651.6\n",
      "Df Residuals:                      39   BIC:                             664.4\n",
      "Df Model:                           6                                         \n",
      "Covariance Type:            nonrobust                                         \n",
      "================================================================================\n",
      "                   coef    std err          t      P>|t|      [0.025      0.975]\n",
      "--------------------------------------------------------------------------------\n",
      "Intercept    -1091.8880    176.456     -6.188      0.000   -1448.804    -734.972\n",
      "Group[T.MCD]   363.2951    100.184      3.626      0.001     160.654     565.936\n",
      "Diam1          189.6690    112.760      1.682      0.101     -38.410     417.748\n",
      "Diam2          371.4621    124.378      2.987      0.005     119.883     623.041\n",
      "CanHt          355.6653    209.843      1.695      0.098     -68.782     780.113\n",
      "TotHt         -101.7325    185.574     -0.548      0.587    -477.091     273.626\n",
      "Dens           131.2542     34.355      3.820      0.000      61.764     200.744\n",
      "==============================================================================\n",
      "Omnibus:                        9.865   Durbin-Watson:                   2.137\n",
      "Prob(Omnibus):                  0.007   Jarque-Bera (JB):               19.723\n",
      "Skew:                           0.366   Prob(JB):                     5.21e-05\n",
      "Kurtosis:                       6.123   Cond. No.                         26.9\n",
      "==============================================================================\n",
      "\n",
      "Warnings:\n",
      "[1] Standard Errors assume that the covariance matrix of the errors is correctly specified.\n",
      "Residual SD: 250.39\n"
     ]
    }
   ],
   "source": [
    "formula = \"\"\"LeafWt ~ Diam1 + Diam2 + CanHt + TotHt + Dens + Group\"\"\"\n",
    "mesquite_model = smf.ols(formula=formula, data=mesquite_df).fit()\n",
    "print(mesquite_model.summary())\n",
    "print(\"Residual SD: {}\".format(np.round(mesquite_model.resid.std(), 2)))"
   ]
  },
  {
   "cell_type": "markdown",
   "metadata": {},
   "source": [
    "### Multiplicative Model"
   ]
  },
  {
   "cell_type": "code",
   "execution_count": 20,
   "metadata": {},
   "outputs": [
    {
     "name": "stdout",
     "output_type": "stream",
     "text": [
      "                            OLS Regression Results                            \n",
      "==============================================================================\n",
      "Dep. Variable:            log(LeafWt)   R-squared:                       0.887\n",
      "Model:                            OLS   Adj. R-squared:                  0.870\n",
      "Method:                 Least Squares   F-statistic:                     51.17\n",
      "Date:                Sat, 20 Jun 2020   Prob (F-statistic):           5.73e-17\n",
      "Time:                        23:35:24   Log-Likelihood:                -10.406\n",
      "No. Observations:                  46   AIC:                             34.81\n",
      "Df Residuals:                      39   BIC:                             47.61\n",
      "Df Model:                           6                                         \n",
      "Covariance Type:            nonrobust                                         \n",
      "================================================================================\n",
      "                   coef    std err          t      P>|t|      [0.025      0.975]\n",
      "--------------------------------------------------------------------------------\n",
      "Intercept        4.7680      0.155     30.747      0.000       4.454       5.082\n",
      "Group[T.MCD]     0.5834      0.129      4.534      0.000       0.323       0.844\n",
      "log(Diam1)       0.3938      0.282      1.397      0.170      -0.177       0.964\n",
      "log(Diam2)       1.1512      0.210      5.477      0.000       0.726       1.576\n",
      "log(CanHt)       0.3732      0.281      1.330      0.191      -0.194       0.941\n",
      "log(TotHt)       0.3943      0.313      1.260      0.215      -0.239       1.027\n",
      "log(Dens)        0.1093      0.122      0.896      0.376      -0.137       0.356\n",
      "==============================================================================\n",
      "Omnibus:                        1.935   Durbin-Watson:                   1.362\n",
      "Prob(Omnibus):                  0.380   Jarque-Bera (JB):                1.047\n",
      "Skew:                          -0.283   Prob(JB):                        0.593\n",
      "Kurtosis:                       3.474   Cond. No.                         12.6\n",
      "==============================================================================\n",
      "\n",
      "Warnings:\n",
      "[1] Standard Errors assume that the covariance matrix of the errors is correctly specified.\n",
      "Residual SD: 0.31\n"
     ]
    }
   ],
   "source": [
    "formula = \"\"\"log(LeafWt) ~ log(Diam1) + log(Diam2) + log(CanHt) + log(TotHt) + log(Dens) + Group\"\"\"\n",
    "mesquite_model = smf.ols(formula=formula, data=mesquite_df).fit()\n",
    "print(mesquite_model.summary())\n",
    "print(\"Residual SD: {}\".format(np.round(mesquite_model.resid.std(), 2)))"
   ]
  },
  {
   "cell_type": "markdown",
   "metadata": {},
   "source": [
    "Interpretation => A difference of x% in canopy height leads to a difference of 0.37x% difference in leaf weight.\n",
    "\n",
    "The above model is a complicated one. Maybe we can start with something very simple."
   ]
  },
  {
   "cell_type": "code",
   "execution_count": 21,
   "metadata": {},
   "outputs": [
    {
     "name": "stdout",
     "output_type": "stream",
     "text": [
      "                            OLS Regression Results                            \n",
      "==============================================================================\n",
      "Dep. Variable:            log(LeafWt)   R-squared:                       0.799\n",
      "Model:                            OLS   Adj. R-squared:                  0.795\n",
      "Method:                 Least Squares   F-statistic:                     175.1\n",
      "Date:                Sat, 20 Jun 2020   Prob (F-statistic):           6.09e-17\n",
      "Time:                        23:35:24   Log-Likelihood:                -23.687\n",
      "No. Observations:                  46   AIC:                             51.37\n",
      "Df Residuals:                      44   BIC:                             55.03\n",
      "Df Model:                           1                                         \n",
      "Covariance Type:            nonrobust                                         \n",
      "===============================================================================\n",
      "                  coef    std err          t      P>|t|      [0.025      0.975]\n",
      "-------------------------------------------------------------------------------\n",
      "Intercept       5.1697      0.083     62.066      0.000       5.002       5.338\n",
      "log(CanVol)     0.7224      0.055     13.234      0.000       0.612       0.832\n",
      "==============================================================================\n",
      "Omnibus:                        2.765   Durbin-Watson:                   0.996\n",
      "Prob(Omnibus):                  0.251   Jarque-Bera (JB):                2.066\n",
      "Skew:                          -0.515   Prob(JB):                        0.356\n",
      "Kurtosis:                       3.125   Cond. No.                         2.59\n",
      "==============================================================================\n",
      "\n",
      "Warnings:\n",
      "[1] Standard Errors assume that the covariance matrix of the errors is correctly specified.\n",
      "Residual SD: 0.41\n"
     ]
    }
   ],
   "source": [
    "mesquite_df[\"CanVol\"] = mesquite_df['Diam1'] * mesquite_df['Diam2'] * mesquite_df['CanHt'] \n",
    "formula = \"\"\"log(LeafWt) ~ log(CanVol)\"\"\"\n",
    "mesquite_model = smf.ols(formula=formula, data=mesquite_df).fit()\n",
    "print(mesquite_model.summary())\n",
    "print(\"Residual SD: {}\".format(np.round(mesquite_model.resid.std(), 2)))"
   ]
  },
  {
   "cell_type": "markdown",
   "metadata": {},
   "source": [
    "So leaf weight is approximately proportional to 0.72th power to Canopy Volume. It has a impressive $R^2$ of 0.8"
   ]
  },
  {
   "cell_type": "code",
   "execution_count": 22,
   "metadata": {},
   "outputs": [
    {
     "name": "stdout",
     "output_type": "stream",
     "text": [
      "                            OLS Regression Results                            \n",
      "==============================================================================\n",
      "Dep. Variable:            log(LeafWt)   R-squared:                       0.887\n",
      "Model:                            OLS   Adj. R-squared:                  0.870\n",
      "Method:                 Least Squares   F-statistic:                     51.17\n",
      "Date:                Sat, 20 Jun 2020   Prob (F-statistic):           5.73e-17\n",
      "Time:                        23:35:24   Log-Likelihood:                -10.406\n",
      "No. Observations:                  46   AIC:                             34.81\n",
      "Df Residuals:                      39   BIC:                             47.61\n",
      "Df Model:                           6                                         \n",
      "Covariance Type:            nonrobust                                         \n",
      "================================================================================\n",
      "                   coef    std err          t      P>|t|      [0.025      0.975]\n",
      "--------------------------------------------------------------------------------\n",
      "Intercept        4.7680      0.155     30.747      0.000       4.454       5.082\n",
      "Group[T.MCD]     0.5834      0.129      4.534      0.000       0.323       0.844\n",
      "log(CanVol)      0.3732      0.281      1.330      0.191      -0.194       0.941\n",
      "log(CanArea)     0.3993      0.294      1.357      0.183      -0.196       0.994\n",
      "log(Shape)      -0.3787      0.231     -1.642      0.109      -0.845       0.088\n",
      "log(TotHt)       0.3943      0.313      1.260      0.215      -0.239       1.027\n",
      "log(Dens)        0.1093      0.122      0.896      0.376      -0.137       0.356\n",
      "==============================================================================\n",
      "Omnibus:                        1.935   Durbin-Watson:                   1.362\n",
      "Prob(Omnibus):                  0.380   Jarque-Bera (JB):                1.047\n",
      "Skew:                          -0.283   Prob(JB):                        0.593\n",
      "Kurtosis:                       3.474   Cond. No.                         22.2\n",
      "==============================================================================\n",
      "\n",
      "Warnings:\n",
      "[1] Standard Errors assume that the covariance matrix of the errors is correctly specified.\n",
      "Residual SD: 0.31\n"
     ]
    }
   ],
   "source": [
    "mesquite_df[\"CanVol\"] = mesquite_df['Diam1'] * mesquite_df['Diam2'] * mesquite_df['CanHt'] \n",
    "mesquite_df[\"CanArea\"] = mesquite_df['Diam1'] * mesquite_df['Diam2']\n",
    "mesquite_df[\"Shape\"] = mesquite_df['Diam1'] / mesquite_df['Diam2']\n",
    "\n",
    "formula = \"\"\"log(LeafWt) ~ log(CanVol) + log(CanArea) + log(Shape) + log(TotHt) + log(Dens) + Group\"\"\"\n",
    "\n",
    "mesquite_model = smf.ols(formula=formula, data=mesquite_df).fit()\n",
    "print(mesquite_model.summary())\n",
    "print(\"Residual SD: {}\".format(np.round(mesquite_model.resid.std(), 2)))"
   ]
  },
  {
   "cell_type": "code",
   "execution_count": 23,
   "metadata": {},
   "outputs": [
    {
     "name": "stdout",
     "output_type": "stream",
     "text": [
      "                            OLS Regression Results                            \n",
      "==============================================================================\n",
      "Dep. Variable:            log(LeafWt)   R-squared:                       0.873\n",
      "Model:                            OLS   Adj. R-squared:                  0.864\n",
      "Method:                 Least Squares   F-statistic:                     96.01\n",
      "Date:                Sat, 20 Jun 2020   Prob (F-statistic):           7.79e-19\n",
      "Time:                        23:35:24   Log-Likelihood:                -13.198\n",
      "No. Observations:                  46   AIC:                             34.40\n",
      "Df Residuals:                      42   BIC:                             41.71\n",
      "Df Model:                           3                                         \n",
      "Covariance Type:            nonrobust                                         \n",
      "================================================================================\n",
      "                   coef    std err          t      P>|t|      [0.025      0.975]\n",
      "--------------------------------------------------------------------------------\n",
      "Intercept        4.6975      0.118     39.812      0.000       4.459       4.936\n",
      "Group[T.MCD]     0.5269      0.116      4.558      0.000       0.294       0.760\n",
      "log(CanVol)      0.6148      0.191      3.215      0.003       0.229       1.001\n",
      "log(CanArea)     0.2889      0.238      1.215      0.231      -0.191       0.768\n",
      "==============================================================================\n",
      "Omnibus:                        1.398   Durbin-Watson:                   1.282\n",
      "Prob(Omnibus):                  0.497   Jarque-Bera (JB):                0.694\n",
      "Skew:                          -0.261   Prob(JB):                        0.707\n",
      "Kurtosis:                       3.300   Cond. No.                         13.3\n",
      "==============================================================================\n",
      "\n",
      "Warnings:\n",
      "[1] Standard Errors assume that the covariance matrix of the errors is correctly specified.\n",
      "Residual SD: 0.33\n"
     ]
    }
   ],
   "source": [
    "formula = \"\"\"log(LeafWt) ~ log(CanVol) + log(CanArea) + Group\"\"\"\n",
    "\n",
    "mesquite_model = smf.ols(formula=formula, data=mesquite_df).fit()\n",
    "print(mesquite_model.summary())\n",
    "print(\"Residual SD: {}\".format(np.round(mesquite_model.resid.std(), 2)))"
   ]
  }
 ],
 "metadata": {
  "kernelspec": {
   "display_name": "Python 3",
   "language": "python",
   "name": "python3"
  },
  "language_info": {
   "codemirror_mode": {
    "name": "ipython",
    "version": 3
   },
   "file_extension": ".py",
   "mimetype": "text/x-python",
   "name": "python",
   "nbconvert_exporter": "python",
   "pygments_lexer": "ipython3",
   "version": "3.7.3"
  }
 },
 "nbformat": 4,
 "nbformat_minor": 4
}
